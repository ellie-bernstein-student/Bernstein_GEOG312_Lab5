{
  "cells": [
    {
      "cell_type": "markdown",
      "metadata": {
        "id": "XAu_wtvn6Bpi"
      },
      "source": [
        "[![image](https://colab.research.google.com/assets/colab-badge.svg)](https://colab.research.google.com/github/giswqs/geog-312/blob/master/labs/lab_05.ipynb)\n",
        "[![image](https://binder.pangeo.io/badge_logo.svg)](https://gishub.org/geog312-pangeo)\n",
        "\n",
        "**Firstname Lastname**"
      ]
    },
    {
      "cell_type": "code",
      "execution_count": null,
      "metadata": {
        "id": "4kTWPL-s6Bpj"
      },
      "outputs": [],
      "source": [
        "from datetime import datetime\n",
        "\n",
        "now = datetime.now()\n",
        "print(f\"Submitted time: {now}\")"
      ]
    },
    {
      "cell_type": "markdown",
      "metadata": {
        "id": "pyexHZdT6Bpj"
      },
      "source": [
        "## Question 1\n",
        "**Person:** Use a dictionary to store information about a person you know. Store their first name, last name, age, and the city in which they live. You should have keys such as first_name, last_name, age, and city. Print each piece of information stored in your dictionary."
      ]
    },
    {
      "cell_type": "code",
      "execution_count": null,
      "metadata": {
        "id": "SqFHes5T6Bpj",
        "colab": {
          "base_uri": "https://localhost:8080/"
        },
        "outputId": "aacfd067-e92e-42a0-976a-169cda2c2dd1"
      },
      "outputs": [
        {
          "output_type": "stream",
          "name": "stdout",
          "text": [
            "first_name = Jen\n",
            "last_name = Martinez\n",
            "age = 19\n",
            "city = Nashville/Knoxville, TN\n"
          ]
        }
      ],
      "source": [
        "jen = {\n",
        "    \"first_name\" : \"Jen\",\n",
        "    \"last_name\" : \"Martinez\",\n",
        "    \"age\" : 19,\n",
        "    \"city\" : \"Nashville/Knoxville, TN\",\n",
        "    }\n",
        "\n",
        "for key,value in jen.items():\n",
        "  print(key, \"=\", value)"
      ]
    },
    {
      "cell_type": "markdown",
      "metadata": {
        "id": "4dz2tELt6Bpj"
      },
      "source": [
        "## Question 2\n",
        "**Favorite Numbers:** Use a dictionary to store people’s favorite numbers. Think of five names, and use them as keys in your dictionary. Think of a favorite number for each person, and store each as a value in your dictionary. Print each person’s name and their favorite number. For even more fun, poll a few friends and get some actual data for your program."
      ]
    },
    {
      "cell_type": "code",
      "execution_count": null,
      "metadata": {
        "id": "GG_UfNkD6Bpk",
        "colab": {
          "base_uri": "https://localhost:8080/"
        },
        "outputId": "13d1f2a0-99cf-4565-e385-f287a1f25ac6"
      },
      "outputs": [
        {
          "output_type": "stream",
          "name": "stdout",
          "text": [
            "Ellie has the favorite number 3\n",
            "Taylor has the favorite number 13\n",
            "Jen has the favorite number 5\n",
            "Claire has the favorite number 11\n",
            "Evelyn has the favorite number 7\n"
          ]
        }
      ],
      "source": [
        "favorite_numbers = {\n",
        "    \"Ellie\" : 3,\n",
        "    \"Taylor\" : 13,\n",
        "    \"Jen\" : 5,\n",
        "    \"Claire\" : 11,\n",
        "    \"Evelyn\": 7,\n",
        "}\n",
        "\n",
        "for name,number in favorite_numbers.items():\n",
        "  print(name, \"has the favorite number\", number)"
      ]
    },
    {
      "cell_type": "markdown",
      "metadata": {
        "id": "huUmv_Fp6Bpk"
      },
      "source": [
        "## Question 3\n",
        "**Glossary:** A Python dictionary can be used to model an actual dictionary. However, to avoid confusion, let’s call it a glossary.\n",
        "\n",
        "* Think of five programming words you’ve learned about in the previous chapters. Use these words as the keys in your glossary, and store their meanings as values.\n",
        "* Print each word and its meaning as neatly formatted output. You might print the word followed by a colon and then its meaning, or print the word on one line and then print its meaning indented on a second line. Use the newline character (\\n) to insert a blank line between each word-meaning pair in your output."
      ]
    },
    {
      "cell_type": "code",
      "execution_count": null,
      "metadata": {
        "id": "Wb_wimrn6Bpk",
        "colab": {
          "base_uri": "https://localhost:8080/"
        },
        "outputId": "c7c9c0d3-7b29-41fe-e905-882e3301de18"
      },
      "outputs": [
        {
          "output_type": "stream",
          "name": "stdout",
          "text": [
            "key : first word in a dictionary pairing \n",
            "\n",
            "string : characters between quotations \n",
            "\n",
            "while loop : code that repeatedly runs an unspecified amount of times \n",
            "\n",
            "for loop : code that repeatedly runs a specified amount of times \n",
            "\n",
            "input : an interaction with the program user \n",
            "\n"
          ]
        }
      ],
      "source": [
        "glossary = {\n",
        "    \"key\" : \"first word in a dictionary pairing\",\n",
        "    \"string\" : \"characters between quotations\" ,\n",
        "    \"while loop\" : \"code that repeatedly runs an unspecified amount of times\",\n",
        "    \"for loop\" : \"code that repeatedly runs a specified amount of times\",\n",
        "    \"input\" : \"an interaction with the program user\",\n",
        "}\n",
        "\n",
        "for term,definition in glossary.items():\n",
        "  print(term, \":\", definition, \"\\n\")"
      ]
    },
    {
      "cell_type": "markdown",
      "metadata": {
        "id": "LoYRosmq6Bpk"
      },
      "source": [
        "## Question 4\n",
        "**Glossary 2:** Now that you know how to loop through a dictionary, clean up the code from Question 3 by replacing your series of print() calls with a loop that runs through the dictionary’s keys and values. When you’re sure that your loop works, add five more Python terms to your glossary. When you run your program again, these new words and meanings should automatically be included in the output."
      ]
    },
    {
      "cell_type": "code",
      "execution_count": null,
      "metadata": {
        "id": "w1PGKDSJ6Bpl",
        "colab": {
          "base_uri": "https://localhost:8080/"
        },
        "outputId": "87a0e015-59df-4707-8deb-955577682354"
      },
      "outputs": [
        {
          "output_type": "stream",
          "name": "stdout",
          "text": [
            "key : first word in a dictionary pairing \n",
            "\n",
            "string : characters between quotations \n",
            "\n",
            "while loop : code that repeatedly runs an unspecified amount of times \n",
            "\n",
            "for loop : code that repeatedly runs a specified amount of times \n",
            "\n",
            "input : an interaction with the program user \n",
            "\n",
            "boolean : a variavle that can be True or False \n",
            "\n",
            "comment : information stored after a '#' that is not run as code \n",
            "\n",
            "variable : stores a value \n",
            "\n",
            "operator : a term that performs operations in code \n",
            "\n",
            "list : a collection of values that is changeable \n",
            "\n"
          ]
        }
      ],
      "source": [
        "glossary = {\n",
        "    \"key\" : \"first word in a dictionary pairing\",\n",
        "    \"string\" : \"characters between quotations\" ,\n",
        "    \"while loop\" : \"code that repeatedly runs an unspecified amount of times\",\n",
        "    \"for loop\" : \"code that repeatedly runs a specified amount of times\",\n",
        "    \"input\" : \"an interaction with the program user\",\n",
        "}\n",
        "\n",
        "glossary[\"boolean\"] = \"a variavle that can be True or False\"\n",
        "glossary[\"comment\"] = \"information stored after a '#' that is not run as code\"\n",
        "glossary[\"variable\"] = \"stores a value\"\n",
        "glossary[\"operator\"] = \"a term that performs operations in code\"\n",
        "glossary[\"list\"] = \"a collection of values that is changeable\"\n",
        "\n",
        "for term,definition in glossary.items():\n",
        "  print(term, \":\", definition, \"\\n\")"
      ]
    },
    {
      "cell_type": "markdown",
      "metadata": {
        "id": "bFryK7SF6Bpl"
      },
      "source": [
        "## Question 5\n",
        "**Rivers:** Make a dictionary containing three major rivers and the country each river runs through. One key-value pair might be 'nile': 'egypt'.\n",
        "\n",
        "* Use a loop to print a sentence about each river, such as *The Nile runs through Egypt.*\n",
        "* Use a loop to print the name of each river included in the dictionary.\n",
        "* Use a loop to print the name of each country included in the dictionary."
      ]
    },
    {
      "cell_type": "code",
      "execution_count": null,
      "metadata": {
        "id": "w8SJjmc-6Bpl",
        "colab": {
          "base_uri": "https://localhost:8080/"
        },
        "outputId": "f2129367-0adf-4e4f-b0f2-9baf21d66736"
      },
      "outputs": [
        {
          "output_type": "stream",
          "name": "stdout",
          "text": [
            "The Yangtze River flows through China\n",
            "The Amazon River flows through Brazil\n",
            "The Danube River flows through Germany\n",
            "\n",
            "rivers:\n",
            "Yangtze River\n",
            "Amazon River\n",
            "Danube River\n",
            " \n",
            "countries:\n",
            "China\n",
            "Brazil\n",
            "Germany\n"
          ]
        }
      ],
      "source": [
        "rivers_and_origins = {\n",
        "    \"Yangtze River\" : \"China\",\n",
        "    \"Amazon River\" : \"Brazil\",\n",
        "    \"Danube River\" : \"Germany\"\n",
        "}\n",
        "\n",
        "#sentence\n",
        "for river,country in rivers_and_origins.items():\n",
        "  print(\"The\", river, \"flows through\", country)\n",
        "\n",
        "print(\"\")\n",
        "\n",
        "#print values\n",
        "print(\"rivers:\")\n",
        "for river,country in rivers_and_origins.items():\n",
        "  print(river)\n",
        "print(\" \")\n",
        "print(\"countries:\")\n",
        "for river,country in rivers_and_origins.items():\n",
        "  print(country)"
      ]
    },
    {
      "cell_type": "markdown",
      "metadata": {
        "id": "3EsrIwQP6Bpl"
      },
      "source": [
        "## Question 6\n",
        "**Polling:** Based on the dictionary below (i.e., favorite_languages):\n",
        "\n",
        "* Make a list of people who should take the favorite languages poll. Include some names that are already in the dictionary and some that are not.\n",
        "* Loop through the list of people who should take the poll. If they have already taken the poll, print a message thanking them for responding. If they have not yet taken the poll, print a message inviting them to take the poll."
      ]
    },
    {
      "cell_type": "code",
      "execution_count": null,
      "metadata": {
        "id": "dnJwFyoX6Bpl",
        "colab": {
          "base_uri": "https://localhost:8080/"
        },
        "outputId": "d9a4bf7e-99bc-4c5a-db05-69b2ee02e81c"
      },
      "outputs": [
        {
          "output_type": "stream",
          "name": "stdout",
          "text": [
            "Thank you for taking the poll, Jen!\n",
            "Thank you for taking the poll, Sarah!\n",
            "John, please take our poll.\n",
            "Paul, please take our poll.\n",
            "Thank you for taking the poll, Abby!\n",
            "Thank you for taking the poll, Ella!\n"
          ]
        }
      ],
      "source": [
        "taken_poll = {\n",
        "    'jen': 'python',\n",
        "    'sarah': 'c',\n",
        "    'abby': 'ruby',\n",
        "    'ella': 'python',\n",
        "    }\n",
        "\n",
        "all_people = [\"jen\", \"sarah\", \"john\", \"paul\", \"abby\", \"ella\"]\n",
        "\n",
        "for x in all_people:\n",
        "    if x in taken_poll.keys():\n",
        "        print(f\"Thank you for taking the poll, {x.title()}!\")\n",
        "    else:\n",
        "        print(f\"{x.title()}, please take our poll.\")"
      ]
    },
    {
      "cell_type": "markdown",
      "metadata": {
        "id": "FIw3kTFH6Bpl"
      },
      "source": []
    },
    {
      "cell_type": "markdown",
      "metadata": {
        "id": "GCPUtzCM6Bpl"
      },
      "source": [
        "## Question 7\n",
        "**People:** Start with the program you wrote for Question 1. Make two new dictionaries representing different people, and store all three dictionaries in a list called `people`. Loop through your list of people. As you loop through the list, print everything you know about each person."
      ]
    },
    {
      "cell_type": "code",
      "execution_count": null,
      "metadata": {
        "id": "QSbqk8kC6Bpm",
        "colab": {
          "base_uri": "https://localhost:8080/"
        },
        "outputId": "936d6927-9347-4291-fa18-4d41f064bd22"
      },
      "outputs": [
        {
          "output_type": "stream",
          "name": "stdout",
          "text": [
            "Jen Martinez, of Nashville, Tn, is 19 years old.\n",
            "Kasthuri Pillapalayam, of Knoxville, Tn, is 22 years old.\n",
            "Ella Hunter, of Knoxville, Tn, is 22 years old.\n"
          ]
        }
      ],
      "source": [
        "\n",
        "people = []\n",
        "\n",
        "one = {\n",
        "    \"first_name\" : \"Jen\",\n",
        "    \"last_name\" : \"Martinez\",\n",
        "    \"age\" : 19,\n",
        "    \"city\" : \"Nashville, TN\",\n",
        "    }\n",
        "people.append(one)\n",
        "\n",
        "two = {\n",
        "    \"first_name\" : \"Kasthuri\",\n",
        "    \"last_name\" : \"Pillapalayam\",\n",
        "    \"age\" : 22,\n",
        "    \"city\" : \"Knoxville, TN\",\n",
        "    }\n",
        "people.append(two)\n",
        "\n",
        "three = {\n",
        "    \"first_name\" : \"Ella\",\n",
        "    \"last_name\" : \"Hunter\",\n",
        "    \"age\" : 22,\n",
        "    \"city\" : \"Knoxville, TN\",\n",
        "    }\n",
        "people.append(three)\n",
        "\n",
        "for person in people:\n",
        "    name = f\"{person['first_name'].title()} {person['last_name'].title()}\"\n",
        "    age = person['age']\n",
        "    city = person['city'].title()\n",
        "\n",
        "    print(f\"{name}, of {city}, is {age} years old.\")"
      ]
    },
    {
      "cell_type": "markdown",
      "metadata": {
        "id": "sM-CQXH56Bpm"
      },
      "source": [
        "## Question 8\n",
        "**Pets:** Make several dictionaries, where each dictionary represents a different pet. In each dictionary, include the kind of animal and the owner’s name. Store these dictionaries in a list called `pets`. Next, loop through your list and as you do, print everything you know about each pet."
      ]
    },
    {
      "cell_type": "code",
      "execution_count": null,
      "metadata": {
        "id": "kOLWMMHl6Bpm",
        "colab": {
          "base_uri": "https://localhost:8080/"
        },
        "outputId": "949a0fba-1dd9-487d-9e57-fa41da984aa2"
      },
      "outputs": [
        {
          "output_type": "stream",
          "name": "stdout",
          "text": [
            "This is what I know about this animal:\n",
            "\tanimal type: dog\n",
            "\towner: Tom\n",
            "This is what I know about this animal:\n",
            "\tanimal type: cat\n",
            "\towner: Lilly\n",
            "This is what I know about this animal:\n",
            "\tanimal type: pig\n",
            "\towner: Ella\n"
          ]
        }
      ],
      "source": [
        "pets = []\n",
        "\n",
        "one = {\n",
        "    'animal type': 'dog',\n",
        "    'owner': 'Tom',\n",
        "}\n",
        "pets.append(one)\n",
        "\n",
        "two = {\n",
        "    'animal type': 'cat',\n",
        "    'owner': 'Lilly',\n",
        "}\n",
        "pets.append(two)\n",
        "\n",
        "three = {\n",
        "    'animal type': 'pig',\n",
        "    'owner': 'Ella',\n",
        "}\n",
        "pets.append(three)\n",
        "\n",
        "for pet in pets:\n",
        "    print(f\"This is what I know about this animal:\")\n",
        "    for key, value in pet.items():\n",
        "        print(f\"\\t{key}: {value}\")"
      ]
    },
    {
      "cell_type": "markdown",
      "metadata": {
        "id": "_atsE7QL6Bpm"
      },
      "source": [
        "## Question 9\n",
        "**Favorite Places:** Make a dictionary called `favorite_places`. Think of three names to use as keys in the dictionary, and store one to three favorite places for each person. To make this exercise a bit more interesting, ask some friends to name a few of their favorite places. Loop through the dictionary, and print each person’s name and their favorite places."
      ]
    },
    {
      "cell_type": "code",
      "execution_count": null,
      "metadata": {
        "id": "zjrmkgLh6Bpm",
        "colab": {
          "base_uri": "https://localhost:8080/"
        },
        "outputId": "185fc759-db35-455f-978b-2118baa7a35d"
      },
      "outputs": [
        {
          "output_type": "stream",
          "name": "stdout",
          "text": [
            "Ella likes these places:\n",
            "Home\n",
            "School\n",
            "Park\n",
            "Kasthuri likes these places:\n",
            "Library\n",
            "Restruant\n",
            "Ellie likes these places:\n",
            "Bed\n",
            "Home\n",
            "Park\n"
          ]
        }
      ],
      "source": [
        "favorite_places = {\n",
        "    'ella': ['home', 'school', 'park'],\n",
        "    'kasthuri': ['library', 'restruant'],\n",
        "    'ellie': ['bed', 'home', 'park']\n",
        "    }\n",
        "\n",
        "for name, places in favorite_places.items():\n",
        "    print(f\"{name.title()} likes these places:\")\n",
        "    for place in places:\n",
        "        print(f\"{place.title()}\")"
      ]
    },
    {
      "cell_type": "markdown",
      "metadata": {
        "id": "iMzlfsMr6Bpm"
      },
      "source": [
        "## Question 10\n",
        "**Favorite Numbers:** Modify your program from Question 2 so each person can have more than one favorite number. Then print each person’s name along with their favorite numbers."
      ]
    },
    {
      "cell_type": "code",
      "execution_count": null,
      "metadata": {
        "id": "Pi_G8uyV6Bpm",
        "colab": {
          "base_uri": "https://localhost:8080/"
        },
        "outputId": "2f552523-2334-4839-d094-333a44ac193a"
      },
      "outputs": [
        {
          "output_type": "stream",
          "name": "stdout",
          "text": [
            "Ellie has the favorite numbers\n",
            "  3\n",
            "  6\n",
            "Taylor has the favorite numbers\n",
            "  13\n",
            "  12\n",
            "Jen has the favorite numbers\n",
            "  5\n",
            "  8\n",
            "Claire has the favorite numbers\n",
            "  11\n",
            "  12\n",
            "Evelyn has the favorite numbers\n",
            "  7\n",
            "  9\n"
          ]
        }
      ],
      "source": [
        "favorite_numbers = {\n",
        "    \"Ellie\" : [3, 6],\n",
        "    \"Taylor\" : [13, 12],\n",
        "    \"Jen\" : [5, 8],\n",
        "    \"Claire\" : [11, 12],\n",
        "    \"Evelyn\": [7, 9],\n",
        "}\n",
        "\n",
        "for name,numbers in favorite_numbers.items():\n",
        "  print(name, \"has the favorite numbers\")\n",
        "  for number in numbers:\n",
        "        print(f\"  {number}\")"
      ]
    },
    {
      "cell_type": "markdown",
      "metadata": {
        "id": "jenQ0wrb6Bpm"
      },
      "source": [
        "## Question 11\n",
        "**Cities:** Make a dictionary called `cities`. Use the names of three cities as keys in your dictionary. Create a dictionary of information about each city and include the country that the city is in, its approximate population, and one fact about that city. The keys for each city’s dictionary should be something like `country`, `population`, and `fact`. Print the name of each city and all of the information you have stored about it."
      ]
    },
    {
      "cell_type": "code",
      "execution_count": null,
      "metadata": {
        "id": "2oczmc3g6Bpm",
        "colab": {
          "base_uri": "https://localhost:8080/"
        },
        "outputId": "8d7886f5-0536-444b-e4bd-6fe93366b6e9"
      },
      "outputs": [
        {
          "output_type": "stream",
          "name": "stdout",
          "text": [
            "\n",
            "Nashville \n",
            " country is Usa, population is 680000, and fun fact is my mom lives here\n",
            "\n",
            "Koxville \n",
            " country is Usa, population is 190000, and fun fact is i live here\n",
            "\n",
            "Chattanooga \n",
            " country is Usa, population is 181000, and fun fact is my sister lives here\n"
          ]
        }
      ],
      "source": [
        "cities = {\n",
        "    'Nashville': {\n",
        "        'country': 'usa',\n",
        "        'population': 680000,\n",
        "        'fact': 'my mom lives here',\n",
        "        },\n",
        "    'Koxville': {\n",
        "        'country': 'usa',\n",
        "        'population': 190000,\n",
        "        'fact': 'i live here',\n",
        "        },\n",
        "    'Chattanooga': {\n",
        "        'country': 'usa',\n",
        "        'population': 181000,\n",
        "        'fact': 'my sister lives here',\n",
        "        }\n",
        "    }\n",
        "\n",
        "for city, info in cities.items():\n",
        "    country = info['country'].title()\n",
        "    population = info['population']\n",
        "    fact = info['fact']\n",
        "    print(f\"\\n{city.title()} \\n country is {country}, population is {population}, and fun fact is {fact}\")\n"
      ]
    },
    {
      "cell_type": "markdown",
      "metadata": {
        "id": "vaW6WgH-6Bpm"
      },
      "source": [
        "## Question 12\n",
        "**Extensions:** We’re now working with examples that are complex enough that they can be extended in any number of ways. Use one of the example programs from this chapter, and extend it by adding new keys and values, changing the context of the program or improving the formatting of the output."
      ]
    },
    {
      "cell_type": "code",
      "execution_count": null,
      "metadata": {
        "id": "zgIxSsSh6Bpm",
        "colab": {
          "base_uri": "https://localhost:8080/"
        },
        "outputId": "43dbde0a-6b46-476f-db95-fa42294ebc81"
      },
      "outputs": [
        {
          "output_type": "stream",
          "name": "stdout",
          "text": [
            "This animal's information is:\n",
            "\tanimal type: dog\n",
            "\towner: Tom\n",
            "\tanimal name: Blue\n",
            "\tage: 1\n",
            "This animal's information is:\n",
            "\tanimal type: cat\n",
            "\towner: Lilly\n",
            "\tanimal name: Rose\n",
            "\tage: 3\n",
            "This animal's information is:\n",
            "\tanimal type: pig\n",
            "\towner: Ella\n",
            "\tanimal name: Snout\n",
            "\tage: 2\n"
          ]
        }
      ],
      "source": [
        "pets = []\n",
        "\n",
        "one = {\n",
        "    'animal type': 'dog',\n",
        "    'owner': 'Tom',\n",
        "    'animal name': 'Blue',\n",
        "    'age': '1',\n",
        "}\n",
        "pets.append(one)\n",
        "\n",
        "two = {\n",
        "    'animal type': 'cat',\n",
        "    'owner': 'Lilly',\n",
        "    'animal name': 'Rose',\n",
        "    'age': '3',\n",
        "}\n",
        "pets.append(two)\n",
        "\n",
        "three = {\n",
        "    'animal type': 'pig',\n",
        "    'owner': 'Ella',\n",
        "    'animal name': 'Snout',\n",
        "    'age': '2',\n",
        "}\n",
        "pets.append(three)\n",
        "\n",
        "for pet in pets:\n",
        "    print(f\"This animal's information is:\")\n",
        "    for key, value in pet.items():\n",
        "        print(f\"\\t{key}: {value}\")"
      ]
    },
    {
      "cell_type": "markdown",
      "metadata": {
        "id": "I6GO9E9y6Bpm"
      },
      "source": [
        "## Question 13\n",
        "**Rental Car:** Write a program that asks the user what kind of rental car they would like. Print a message about that car, such as “Let me see if I can find you a Subaru.”"
      ]
    },
    {
      "cell_type": "code",
      "execution_count": null,
      "metadata": {
        "id": "uwjhWFgG6Bpn",
        "colab": {
          "base_uri": "https://localhost:8080/"
        },
        "outputId": "eb651557-56c3-498e-f222-7ff7be13bd9f"
      },
      "outputs": [
        {
          "output_type": "stream",
          "name": "stdout",
          "text": [
            "What kind of car would you like? car\n",
            "Let me see if I can find you a car.\n"
          ]
        }
      ],
      "source": [
        "question = input(\"What kind of car would you like? \")\n",
        "\n",
        "print(f\"Let me see if I can find you a {question}.\")"
      ]
    },
    {
      "cell_type": "markdown",
      "metadata": {
        "id": "Z90Us3Iz6Bpn"
      },
      "source": [
        "## Question 14\n",
        "**Restaurant Seating:** Write a program that asks the user how many people are in their dinner group. If the answer is more than eight, print a message saying they’ll have to wait for a table. Otherwise, report that their table is ready."
      ]
    },
    {
      "cell_type": "code",
      "execution_count": null,
      "metadata": {
        "id": "8pF5fZp_6Bpn",
        "colab": {
          "base_uri": "https://localhost:8080/"
        },
        "outputId": "1638bbc0-9c46-4c7d-8e52-3f3158a3cc57"
      },
      "outputs": [
        {
          "output_type": "stream",
          "name": "stdout",
          "text": [
            "How many people are in your group tonight? 7\n",
            "Your table is ready. Follow me.\n"
          ]
        }
      ],
      "source": [
        "question = input(\"How many people are in your group tonight? \")\n",
        "question = int(question)\n",
        "\n",
        "if question > 8:\n",
        "    print(\"You'll have to wait for a table.\")\n",
        "else:\n",
        "    print(\"Your table is ready. Follow me.\")"
      ]
    },
    {
      "cell_type": "markdown",
      "metadata": {
        "id": "hbUPH2XX6Bpn"
      },
      "source": [
        "## Question 15\n",
        "**Multiples of Ten:** Ask the user for a number, and then report whether the number is a multiple of 10 or not."
      ]
    },
    {
      "cell_type": "code",
      "execution_count": null,
      "metadata": {
        "id": "Yvidls1t6Bpn",
        "colab": {
          "base_uri": "https://localhost:8080/"
        },
        "outputId": "f79335c8-be9d-40d7-b589-c222b5735f9f"
      },
      "outputs": [
        {
          "output_type": "stream",
          "name": "stdout",
          "text": [
            "Enter number: 7\n",
            "7 is not a multiple of 10.\n"
          ]
        }
      ],
      "source": [
        "q = input(\"Enter number: \")\n",
        "q = int(q)\n",
        "\n",
        "if q % 10 == 0:\n",
        "    print(f\"{q} is a multiple of 10.\")\n",
        "else:\n",
        "    print(f\"{q} is not a multiple of 10.\")"
      ]
    },
    {
      "cell_type": "markdown",
      "metadata": {
        "id": "vl0V3L3n6Bpn"
      },
      "source": [
        "## Question 16\n",
        "**Pizza Toppings:** Write a loop that prompts the user to enter a series of pizza toppings until they enter a 'quit' value. As they enter each topping, print a message saying you’ll add that topping to their pizza."
      ]
    },
    {
      "cell_type": "code",
      "execution_count": null,
      "metadata": {
        "id": "issNAVKR6Bpn",
        "colab": {
          "base_uri": "https://localhost:8080/"
        },
        "outputId": "da756b68-cca1-4712-fb6b-7b9fe80b113e"
      },
      "outputs": [
        {
          "name": "stdout",
          "output_type": "stream",
          "text": [
            "\n",
            "Enter pizza toping. Put 'quit' when finished.8\n",
            "  I'll add that toping to your pizza.\n",
            "\n",
            "Enter pizza toping. Put 'quit' when finished.8\n",
            "  I'll add that toping to your pizza.\n",
            "\n",
            "Enter pizza toping. Put 'quit' when finished.quit\n"
          ]
        }
      ],
      "source": [
        "hello = \"\\nEnter pizza toping. Put 'quit' when finished.\"\n",
        "\n",
        "while True:\n",
        "    a = input(hello)\n",
        "    if a != 'quit':\n",
        "        print(f\"  I'll add that toping to your pizza.\")\n",
        "    else:\n",
        "        break"
      ]
    },
    {
      "cell_type": "markdown",
      "metadata": {
        "id": "vyULOUBj6Bpn"
      },
      "source": [
        "## Question 17\n",
        "**Movie Tickets:** A movie theater charges different ticket prices depending on a person’s age. If a person is under the age of 3, the ticket is free; if they are between 3 and 12, the ticket is \\\\$10; and if they are over age 12, the ticket is $15. Write a loop in which you ask users their age, and then tell them the cost of their movie ticket."
      ]
    },
    {
      "cell_type": "code",
      "execution_count": null,
      "metadata": {
        "id": "GEERVU1u6Bpn",
        "colab": {
          "base_uri": "https://localhost:8080/"
        },
        "outputId": "af4d858c-3a79-4721-a92f-0e8e34952c72"
      },
      "outputs": [
        {
          "name": "stdout",
          "output_type": "stream",
          "text": [
            "Enter quit if you are done. Enter age: quit\n"
          ]
        }
      ],
      "source": [
        "q = \"Enter quit if you are done. Enter age: \"\n",
        "\n",
        "while True:\n",
        "    age = input(q)\n",
        "    if age == 'quit':\n",
        "        break\n",
        "    age = int(age)\n",
        "    if age < 3:\n",
        "        print(\"  You get in free!\")\n",
        "    elif age < 13:\n",
        "        print(\"  Your ticket is $10.\")\n",
        "    else:\n",
        "        print(\"  Your ticket is $15.\")"
      ]
    },
    {
      "cell_type": "markdown",
      "metadata": {
        "id": "APO6gFyI6Bpn"
      },
      "source": [
        "## Question 18\n",
        "**Three Exits:** Write different versions of either Question 16 or Question 17 that do each of the following at least once:\n",
        "\n",
        "* Use a conditional test in the while statement to stop the loop.\n",
        "* Use an active variable to control how long the loop runs.\n",
        "* Use a break statement to exit the loop when the user enters a 'quit' value."
      ]
    },
    {
      "cell_type": "code",
      "source": [
        "hello = \"\\nEnter pizza toping. Put 'quit' when finished.\"\n",
        "\n",
        "while True:\n",
        "    a = input(hello)\n",
        "    if a != 'quit':\n",
        "        print(f\"  I'll add that toping to your pizza.\")\n",
        "    else:\n",
        "        break"
      ],
      "metadata": {
        "colab": {
          "base_uri": "https://localhost:8080/"
        },
        "id": "7-EX92DIPMjx",
        "outputId": "5407c32d-aab8-4e18-ee0c-1a10c7e56f3a"
      },
      "execution_count": null,
      "outputs": [
        {
          "name": "stdout",
          "output_type": "stream",
          "text": [
            "\n",
            "Enter pizza toping. Put 'quit' when finished.quit\n"
          ]
        }
      ]
    },
    {
      "cell_type": "markdown",
      "metadata": {
        "id": "S26r26tb6Bpn"
      },
      "source": [
        "## Question 19\n",
        "**Deli:** Make a list called `sandwich_orders` and fill it with the names of various sandwiches. Then make an empty list called `finished_sandwiches`. Loop through the list of sandwich orders and print a message for each order, such as `I made your tuna sandwich`. As each sandwich is made, move it to the list of finished sandwiches. After all the sandwiches have been made, print a message listing each sandwich that was made."
      ]
    },
    {
      "cell_type": "code",
      "execution_count": null,
      "metadata": {
        "id": "HcgSMSS86Bpn",
        "colab": {
          "base_uri": "https://localhost:8080/"
        },
        "outputId": "1717f39c-6b0b-43e7-a4c5-2a70ad97652d"
      },
      "outputs": [
        {
          "output_type": "stream",
          "name": "stdout",
          "text": [
            "I made your meatball sandwich.\n",
            "I made your ham and cheese sandwich.\n",
            "I made your grilled cheese sandwich.\n",
            "I made your blt sandwich.\n"
          ]
        }
      ],
      "source": [
        "sandwich_orders = ['blt', 'grilled cheese', 'ham and cheese', 'meatball']\n",
        "finished_sandwiches = []\n",
        "\n",
        "while sandwich_orders:\n",
        "    middle = sandwich_orders.pop()\n",
        "    finished_sandwiches.append(middle)\n",
        "\n",
        "for x in finished_sandwiches:\n",
        "    print(f\"I made your {x} sandwich.\")"
      ]
    },
    {
      "cell_type": "markdown",
      "metadata": {
        "id": "S5tFK-m66Bpn"
      },
      "source": [
        "## Question 20\n",
        "**No Pastrami:** Using the list `sandwich_orders` from Question 19, make sure the sandwich `pastrami` appears in the list at least three times. Add code near the beginning of your program to print a message saying the deli has run out of pastrami, and then use a `while` loop to remove all occurrences of `pastrami` from `sandwich_orders`. Make sure no pastrami sandwiches end up in `finished_sandwiches`."
      ]
    },
    {
      "cell_type": "code",
      "execution_count": null,
      "metadata": {
        "id": "8UdQH0c36Bpo",
        "colab": {
          "base_uri": "https://localhost:8080/"
        },
        "outputId": "2224ffc9-206c-422f-f0a9-522d6908fe44"
      },
      "outputs": [
        {
          "output_type": "stream",
          "name": "stdout",
          "text": [
            "The deli ran out of pastrami\n",
            "I made your meatball sandwich.\n",
            "I made your grilled cheese sandwich.\n",
            "I made your ham and cheese sandwich.\n",
            "I made your blt sandwich.\n"
          ]
        }
      ],
      "source": [
        "sandwich_orders = [\n",
        "    'pastrami', 'blt', 'ham and cheese', 'pastrami',\n",
        "    'grilled cheese', 'meatball', 'pastrami']\n",
        "finished_sandwiches = []\n",
        "print(\"The deli ran out of pastrami\")\n",
        "\n",
        "while 'pastrami' in sandwich_orders:\n",
        "    sandwich_orders.remove('pastrami')\n",
        "\n",
        "while sandwich_orders:\n",
        "    middle = sandwich_orders.pop()\n",
        "    finished_sandwiches.append(middle)\n",
        "\n",
        "for x in finished_sandwiches:\n",
        "    print(f\"I made your {x} sandwich.\")"
      ]
    },
    {
      "cell_type": "markdown",
      "metadata": {
        "id": "zxYGb97f6Bpo"
      },
      "source": [
        "## Question 21\n",
        "**Dream Vacation:** Write a program that polls users about their dream vacation. Write a prompt similar to *If you could visit one place in the world, where would you go?* Include a block of code that prints the results of the poll."
      ]
    },
    {
      "cell_type": "code",
      "execution_count": null,
      "metadata": {
        "id": "njkjLzS86Bpo",
        "colab": {
          "base_uri": "https://localhost:8080/"
        },
        "outputId": "ebd69479-a393-4153-fece-8713844396d8"
      },
      "outputs": [
        {
          "output_type": "stream",
          "name": "stdout",
          "text": [
            "If you could eat one food in foever, what would it be? Enter 'none' to quit.g\n",
            "If you could eat one food in foever, what would it be? Enter 'none' to quit.q\n",
            "If you could eat one food in foever, what would it be? Enter 'none' to quit.none\n",
            "['g', 'q']\n"
          ]
        }
      ],
      "source": [
        "answer = []\n",
        "\n",
        "while True:\n",
        "  asked = input(\"If you could eat one food in foever, what would it be? Enter 'none' to quit.\")\n",
        "  if asked != \"none\":\n",
        "    answer.append(asked)\n",
        "  else:\n",
        "    break\n",
        "\n",
        "print(answer)\n"
      ]
    }
  ],
  "metadata": {
    "kernelspec": {
      "display_name": "Python 3 (ipykernel)",
      "language": "python",
      "name": "python3"
    },
    "language_info": {
      "codemirror_mode": {
        "name": "ipython",
        "version": 3
      },
      "file_extension": ".py",
      "mimetype": "text/x-python",
      "name": "python",
      "nbconvert_exporter": "python",
      "pygments_lexer": "ipython3",
      "version": "3.8.10"
    },
    "colab": {
      "provenance": []
    }
  },
  "nbformat": 4,
  "nbformat_minor": 0
}